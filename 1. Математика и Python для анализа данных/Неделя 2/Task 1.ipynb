{
 "cells": [
  {
   "cell_type": "code",
   "execution_count": 2,
   "metadata": {},
   "outputs": [],
   "source": [
    "import numpy as np\n",
    "from scipy.spatial import distance\n",
    "import pandas as pd\n",
    "import re"
   ]
  },
  {
   "cell_type": "code",
   "execution_count": 34,
   "metadata": {},
   "outputs": [],
   "source": [
    "def token(strs):\n",
    "    t=[]\n",
    "    for i in range(len(strs)):\n",
    "        #if strs[i] != '':\n",
    "        t.append(strs[i].strip().lower())\n",
    "    return t"
   ]
  },
  {
   "cell_type": "code",
   "execution_count": 35,
   "metadata": {},
   "outputs": [],
   "source": [
    "with open('sentences.txt', 'r') as f:\n",
    "    strs = f.read().splitlines()"
   ]
  },
  {
   "cell_type": "code",
   "execution_count": 36,
   "metadata": {},
   "outputs": [],
   "source": [
    "token_str = []"
   ]
  },
  {
   "cell_type": "code",
   "execution_count": 37,
   "metadata": {},
   "outputs": [],
   "source": [
    "for i in range(len(strs)):\n",
    "    token_str.append(token(re.split('[^a-z]', strs[i])))"
   ]
  },
  {
   "cell_type": "code",
   "execution_count": 38,
   "metadata": {},
   "outputs": [],
   "source": [
    "count = {}"
   ]
  },
  {
   "cell_type": "code",
   "execution_count": 47,
   "metadata": {},
   "outputs": [],
   "source": [
    "for sentence in range(len(token_str)-1):\n",
    "    for word in range(len(token_str[sentence])-1):\n",
    "        if token_str[sentence][word] in count:\n",
    "            count[token_str[sentence][word]] += 1\n",
    "        else:\n",
    "            count[token_str[sentence][word]] = 1      "
   ]
  },
  {
   "cell_type": "code",
   "execution_count": 48,
   "metadata": {},
   "outputs": [
    {
     "data": {
      "text/plain": [
       "254"
      ]
     },
     "execution_count": 48,
     "metadata": {},
     "output_type": "execute_result"
    }
   ],
   "source": [
    "len(count)"
   ]
  },
  {
   "cell_type": "code",
   "execution_count": 49,
   "metadata": {},
   "outputs": [
    {
     "name": "stdout",
     "output_type": "stream",
     "text": [
      "{'n': 6, 'comparison': 2, 'to': 26, 'dogs': 2, 'cats': 6, 'have': 4, 'not': 2, 'undergone': 2, 'major': 2, 'changes': 4, 'during': 2, 'the': 34, 'domestication': 2, 'process': 4, 's': 6, 'cat': 18, 'simply': 4, 'catenates': 2, 'streams': 2, 'of': 36, 'bytes': 4, 'it': 8, 'can': 6, 'be': 6, 'also': 4, 'used': 2, 'concatenate': 4, 'binary': 2, 'files': 2, 'where': 4, 'will': 4, 'just': 6, 'sequence': 4, 'common': 2, 'interactive': 2, 'use': 4, 'for': 8, 'a': 22, 'single': 2, 'file': 10, 'is': 14, 'output': 6, 'content': 4, 'standard': 2, 'ats': 2, 'hear': 2, 'sounds': 2, 'too': 4, 'faint': 2, 'or': 6, 'high': 2, 'in': 16, 'frequency': 2, 'human': 4, 'ears': 2, 'such': 2, 'as': 8, 'those': 2, 'made': 2, 'by': 4, 'mice': 2, 'and': 28, 'other': 4, 'small': 4, 'animals': 2, 'one': 8, 'people': 2, 'deliberately': 2, 'tamed': 2, 'artificial': 2, 'selection': 2, 'they': 2, 'were': 4, 'useful': 2, 'predators': 2, 'vermin': 2, 'he': 4, 'domesticated': 2, 'its': 4, 'closest': 2, 'wild': 2, 'ancestor': 2, 'are': 4, 'both': 2, 'diploid': 2, 'organisms': 2, 'that': 4, 'possess': 2, 'chromosomes': 2, 'roughly': 2, 'genes': 2, 'omestic': 2, 'similar': 2, 'size': 2, 'members': 2, 'genus': 2, 'elis': 2, 'typically': 2, 'weighing': 2, 'between': 2, 'kg': 2, 'lb': 2, 'owever': 2, 'if': 2, 'piped': 2, 'redirected': 4, 'unnecessary': 2, 'with': 4, 'named': 2, 'safer': 2, 'error': 2, 'concern': 2, 'wrong': 2, 'default': 2, 'redirection': 4, 'symbol': 2, 'instead': 2, 'often': 2, 'adjacent': 2, 'on': 10, 'keyboards': 2, 'may': 2, 'permanently': 2, 'delete': 2, 'you': 10, 'needing': 2, 'read': 2, 'terms': 2, 'legibility': 2, 'commands': 4, 'starting': 2, 'connected': 2, 'pipes': 2, 'has': 8, 'clear': 2, 'left': 2, 'right': 2, 'flow': 2, 'information': 2, 'at': 2, 'command': 6, 'basic': 2, 'learned': 2, 'when': 2, 'started': 2, 'nix': 2, 'inux': 2, 'world': 2, 'sing': 2, 'lines': 2, 'received': 2, 'from': 2, 'stdin': 4, 'new': 4, 'using': 4, 'symbols': 2, 'hen': 2, 'type': 2, 'without': 2, 'any': 2, 'arguments': 2, 'receives': 2, 'displays': 2, 'stdout': 2, 'eopard': 6, 'was': 4, 'released': 6, 'ctober': 2, 'successor': 2, 'iger': 6, 'version': 2, 'available': 2, 'two': 2, 'editions': 2, 'ccording': 2, 'pple': 14, 'contains': 2, 'over': 4, 'enhancements': 2, 'predecessor': 2, 'ac': 10, 'id': 2, 'some': 2, 'computers': 6, 'firmware': 2, 'factory': 2, 'installed': 4, 'which': 2, 'no': 2, 'longer': 2, 'allow': 2, 'installation': 4, 'ince': 2, 'moved': 2, 'ntel': 2, 'processors': 2, 'their': 2, 'x': 4, 'community': 2, 'developed': 2, 'now': 2, 'allows': 2, 'later': 2, 'releases': 2, 'non': 2, 'based': 2, 'ountain': 8, 'ion': 8, 'uly': 2, 'purchase': 2, 'download': 2, 'through': 2, 'pp': 2, 'tore': 2, 'part': 2, 'switch': 2, 'releasing': 4, 'versions': 4, 'online': 2, 'every': 2, 'year': 2, 'patch': 2, 'three': 2, 'most': 2, 'recent': 2, 'afari': 2, 'running': 2, 'osemite': 2, 'avericks': 2, 'release': 2, 'marks': 2, 'second': 2, 'time': 2, 'offered': 2, 'an': 4, 'incremental': 2, 'upgrade': 2, 'rather': 2, 'than': 2, 'entirely': 2, 'installs': 2, 'place': 2, 'so': 2, 'won': 2, 't': 2, 'need': 2, 'create': 2, 'separate': 2, 'disk': 2, 'run': 2, 'off': 2, 'external': 2, 'drive': 2, '': 191}\n"
     ]
    }
   ],
   "source": [
    "dict1 = {}\n",
    "del count['']\n",
    "print(count)"
   ]
  },
  {
   "cell_type": "code",
   "execution_count": 50,
   "metadata": {},
   "outputs": [],
   "source": [
    "for sentence in range(len(token_str)):\n",
    "    dict1[sentence] = {}\n",
    "    for word in range(len(token_str[sentence])-1):\n",
    "        if token_str[sentence][word] in dict1[sentence]:\n",
    "            dict1[sentence][token_str[sentence][word]] += 1\n",
    "        else:\n",
    "            dict1[sentence][token_str[sentence][word]] = 1\n",
    "    for key in count.keys():\n",
    "        if key not in dict1[sentence]:\n",
    "            dict1[sentence][key] = 0"
   ]
  },
  {
   "cell_type": "code",
   "execution_count": 51,
   "metadata": {},
   "outputs": [],
   "source": [
    "frame = pd.DataFrame(dict1)"
   ]
  },
  {
   "cell_type": "code",
   "execution_count": 52,
   "metadata": {},
   "outputs": [
    {
     "data": {
      "text/plain": [
       "22"
      ]
     },
     "execution_count": 52,
     "metadata": {},
     "output_type": "execute_result"
    }
   ],
   "source": [
    "frame.fillna(0, inplace=True)\n",
    "cosin = []\n",
    "len(frame.columns)"
   ]
  },
  {
   "cell_type": "code",
   "execution_count": 53,
   "metadata": {},
   "outputs": [],
   "source": [
    "for i in range(1, len(frame.columns)):\n",
    "    a = []\n",
    "    for j in range(len(frame)):\n",
    "        a.append(frame[i][j])\n",
    "    cosin.append(distance.cosine(frame[0], a))"
   ]
  },
  {
   "cell_type": "code",
   "execution_count": 54,
   "metadata": {},
   "outputs": [
    {
     "data": {
      "text/plain": [
       "[0.7423264391586913,\n",
       " 0.7170417707909449,\n",
       " 0.8278674068352259,\n",
       " 0.6127016653792583,\n",
       " 0.5633063549380299,\n",
       " 0.4953258905970236,\n",
       " 0.6482367646592757,\n",
       " 0.5407206732281542,\n",
       " 0.7642977396044842,\n",
       " 0.5917517095361371,\n",
       " 0.6984886554222364,\n",
       " 0.7373871342805549,\n",
       " 0.5267620366059634,\n",
       " 0.5140873420962249,\n",
       " 0.5326547824717041,\n",
       " 0.5201612441583845,\n",
       " 0.5294502478556,\n",
       " 0.5383097415616807,\n",
       " 0.6177235742286963,\n",
       " 0.5399562937717639,\n",
       " 0.5165062215847718]"
      ]
     },
     "execution_count": 54,
     "metadata": {},
     "output_type": "execute_result"
    }
   ],
   "source": [
    "cosin"
   ]
  },
  {
   "cell_type": "code",
   "execution_count": 29,
   "metadata": {},
   "outputs": [
    {
     "data": {
      "text/plain": [
       "6"
      ]
     },
     "execution_count": 29,
     "metadata": {},
     "output_type": "execute_result"
    }
   ],
   "source": [
    "cosin.index(min(cosin))+1"
   ]
  },
  {
   "cell_type": "code",
   "execution_count": 30,
   "metadata": {},
   "outputs": [
    {
     "name": "stdout",
     "output_type": "stream",
     "text": [
      "0.4953258905970236\n"
     ]
    }
   ],
   "source": [
    "print(min(cosin))"
   ]
  },
  {
   "cell_type": "code",
   "execution_count": 31,
   "metadata": {},
   "outputs": [],
   "source": [
    "del cosin[5]"
   ]
  },
  {
   "cell_type": "code",
   "execution_count": null,
   "metadata": {},
   "outputs": [],
   "source": []
  },
  {
   "cell_type": "code",
   "execution_count": 32,
   "metadata": {},
   "outputs": [
    {
     "data": {
      "text/plain": [
       "13"
      ]
     },
     "execution_count": 32,
     "metadata": {},
     "output_type": "execute_result"
    }
   ],
   "source": [
    "cosin.index(min(cosin))+1"
   ]
  },
  {
   "cell_type": "code",
   "execution_count": 33,
   "metadata": {},
   "outputs": [
    {
     "data": {
      "text/plain": [
       "0.5140873420962249"
      ]
     },
     "execution_count": 33,
     "metadata": {},
     "output_type": "execute_result"
    }
   ],
   "source": [
    "min(cosin)"
   ]
  },
  {
   "cell_type": "code",
   "execution_count": null,
   "metadata": {},
   "outputs": [],
   "source": []
  }
 ],
 "metadata": {
  "kernelspec": {
   "display_name": "Python 3",
   "language": "python",
   "name": "python3"
  },
  "language_info": {
   "codemirror_mode": {
    "name": "ipython",
    "version": 3
   },
   "file_extension": ".py",
   "mimetype": "text/x-python",
   "name": "python",
   "nbconvert_exporter": "python",
   "pygments_lexer": "ipython3",
   "version": "3.7.3"
  }
 },
 "nbformat": 4,
 "nbformat_minor": 2
}
